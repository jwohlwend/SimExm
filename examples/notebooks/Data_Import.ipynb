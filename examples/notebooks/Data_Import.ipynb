{
 "cells": [
  {
   "cell_type": "markdown",
   "metadata": {
    "slideshow": {
     "slide_type": "slide"
    }
   },
   "source": [
    "# Ground Truth Data Import Notebook\n",
    "\n",
    "The point of this notebook is to give the tools to import 4 different ground truth datasets:\n",
    "\n",
    "1. Mishchenko: small but highly annotated \n",
    "2. Kashturi: largest annotated volume\n",
    "2. Janelia: super high isotropic resolution  \n",
    "3. Eyewire: low resolution dataset\n",
    "\n",
    "We show here how to handle the import script for each of these datasets.  \n",
    "First connect to database. If the database does not exist at the given path, it is automatically created an initialized."
   ]
  },
  {
   "cell_type": "code",
   "execution_count": 1,
   "metadata": {
    "collapsed": false
   },
   "outputs": [],
   "source": [
    "import sys; sys.path.insert(0, \"../\")\n",
    "from database.models import DatabaseSession\n",
    "\n",
    "database_path = \"/Users/Jeremy/Documents/Neuro/mishchenko1.db\"\n",
    "ds = DatabaseSession(database_path)"
   ]
  },
  {
   "cell_type": "markdown",
   "metadata": {},
   "source": [
    "## Datasets\n",
    "\n",
    "### Mishchenko\n",
    "\n",
    "Required parameters:"
   ]
  },
  {
   "cell_type": "code",
   "execution_count": 2,
   "metadata": {
    "collapsed": false,
    "slideshow": {
     "slide_type": "subslide"
    }
   },
   "outputs": [],
   "source": [
    "import scipy.io\n",
    "import numpy as np\n",
    "\n",
    "dataset_name = \"Mishchenko2\"  \n",
    "source_url = '''https://www.dropbox.com/sh/feyvo74v4fikyph/AAB8av97edabKP_UJngXrRvIa?dl=0'''  \n",
    "reference_url = '''http://journals.plos.org/plosone/article?id=10.1371/journal.pone.0008853'''  \n",
    "comments = \"A reconstruction of a part of the rat hippocampus.\" + \\\n",
    "\"Very small volume but well annotated: synapses (PSD), cell types and cell regions.\"  \n",
    "data_source_path = \"/Users/Jeremy/Documents/Neuro/Mishchenko/PLOS2010raw.mat\"\n",
    "\n",
    "(x, y, z, vx, vy, vz) = (542, 813, 93, 8, 8, 50)\n",
    "dim = (x, y, z)\n",
    "vdim = (vx, vy, vz)\n",
    "\n",
    "true_map = {}\n",
    "mat = scipy.io.loadmat(data_source_path)\n",
    "typeMap = mat['typesmap'][0]\n",
    "synpaseidsMap = [id[0] for id in mat['synapses_ids']]\n",
    "synpasePartnersMap = mat['synpartners_ids']\n",
    "for i in xrange(0, len(synpaseidsMap)):\n",
    "    true_map[synpaseidsMap[i]] = synpasePartnersMap[i]\n",
    "true_map[0] = (0, 0)"
   ]
  },
  {
   "cell_type": "markdown",
   "metadata": {},
   "source": [
    "Required methods:"
   ]
  },
  {
   "cell_type": "code",
   "execution_count": 3,
   "metadata": {
    "collapsed": true
   },
   "outputs": [],
   "source": [
    "def get_cell_type(cell_id, type_map):\n",
    "    type_map_database = {4:\"glia\", 2:\"neuron\", 3:\"neuron\",\\\n",
    "     1:\"unknown\", 11:\"unknown\", 8:\"unknown\"}\n",
    "    return type_map_database[type_map[cell_id]]\n",
    "\n",
    "def get_region_type(cell_id, region_id, is_synapse, type_map):\n",
    "    type_map_database = {4:\"unknown\", 2:\"dendrite\", 3:\"axon\",\\\n",
    "     1:\"unknown\", 11:\"unknown\", 8:\"unknown\"}\n",
    "    if is_synapse: \n",
    "        return \"synapse\"\n",
    "    else:\n",
    "        return type_map_database[type_map[cell_id]]\n",
    "    \n",
    "def get_slice(k):\n",
    "    real_slice = np.array(mat['segmentation'][0][k], np.uint32)\n",
    "    synapse_slice = np.array(mat['synapses'][0][k], np.uint16)\n",
    "    mito_slice = np.zeros((x, y), np.uint16)\n",
    "    for i in range(x):\n",
    "        for j in range(y):\n",
    "            if synapse_slice[i,j] != 0: \n",
    "                real_slice[i,j] = true_map[synapse_slice[i,j]][0]\n",
    "    return (np.transpose(real_slice), np.transpose(synapse_slice), mito_slice)"
   ]
  },
  {
   "cell_type": "markdown",
   "metadata": {},
   "source": [
    "### Janelia\n",
    "\n",
    "Required parameters:"
   ]
  },
  {
   "cell_type": "code",
   "execution_count": null,
   "metadata": {
    "collapsed": false
   },
   "outputs": [],
   "source": [
    "import os\n",
    "\n",
    "dataset_name = \"Janelia\"\n",
    "source_url = \"http://emdata.janelia.org/\"\n",
    "reference_url = \"https://www.janelia.org/project-teams/fly-em/research/progress/progress-reconstruction/seven-column-connectome-fib-sem\"\n",
    "comments = \"FIB-SEM, one long medulla column. No paper published with the data. Contains neurons and unidentified cells, no region annotation\"\n",
    "\n",
    "#Source data path on local machine\n",
    "data_source_path = '/Users/Jeremy/Documents/Neuro/Janelia/images/'\n",
    "\n",
    "try: \n",
    "    os.remove(data_source_path+\".DS_Store\")\n",
    "except OSError:\n",
    "    pass\n",
    "\n",
    "files = os.listdir(data_source_path)\n",
    "#Dataset info\n",
    "(x, y, z, vx, vy, vz) = (2000, 2000, 6239, 8, 8, 8)\n",
    "dim = (x, y, z)\n",
    "vdim = (vx, vy, vz)\n",
    "typeMap = {}"
   ]
  },
  {
   "cell_type": "markdown",
   "metadata": {},
   "source": [
    "Required methods:"
   ]
  },
  {
   "cell_type": "code",
   "execution_count": null,
   "metadata": {
    "collapsed": true
   },
   "outputs": [],
   "source": [
    "import cv2\n",
    "import numpy as np\n",
    "\n",
    "def get_cell_type(cell_id, type_map):\n",
    "    return \"neuron\"\n",
    "\n",
    "def get_region_type(cell_id, region_id, is_synapse, type_map):\n",
    "    return \"unknown\"\n",
    "    \n",
    "def get_slice(k):\n",
    "    real_slice = (cv2.imread(data_source_path + files[k],0)).astype(np.uint32)\n",
    "    synapse_slice = np.zeros((x, y), np.uint16)\n",
    "    mito_slice = np.zeros((x, y), np.uint16)\n",
    "    return (np.transpose(real_slice), np.transpose(synapse_slice), np.transpose(mito_slice))"
   ]
  },
  {
   "cell_type": "markdown",
   "metadata": {},
   "source": [
    "### Kasthuri\n",
    "\n",
    "Required parameters:"
   ]
  },
  {
   "cell_type": "code",
   "execution_count": null,
   "metadata": {
    "collapsed": false
   },
   "outputs": [],
   "source": [
    "import os\n",
    "\n",
    "dataset_name = \"Kasthuri\"\n",
    "source_url = \"http://w.ocp.me/datum:kasthuri15\"\n",
    "reference_url = \"http://www.cell.com/abstract/S0092-8674(15)00824-7\"\n",
    "comments = \"Volume of mouse neocortex, neuron segments, mitochondrias and synapses annotated but no other regions.\"\n",
    "source_path = '/Users/Jeremy/Documents/Neuro/Kasthuri/'\n",
    "typeMap = {}\n",
    "\n",
    "try: \n",
    "    os.remove(source_path+\".DS_Store\")\n",
    "except OSError:\n",
    "    pass\n",
    "\n",
    "(mitos_path, synapses_path, segments_path)  = (source_path + 'kat11mito/',\\\n",
    "                                               source_path + 'kat11synapses/',\\\n",
    "                                               source_path + 'kat11segments/')\n",
    "(files_synapses, files_segments, files_mitos) = (os.listdir(synapses_path),\\\n",
    "                                                 os.listdir(segments_path),\\\n",
    "                                                 os.listdir(mitos_path))\n",
    "\n",
    "(x, y, z, vx, vy, vz) = (10752, 13312, 1849, 6, 6, 30)\n",
    "dim = (x, y, z)\n",
    "vdim = (vx, vy, vz)"
   ]
  },
  {
   "cell_type": "markdown",
   "metadata": {},
   "source": [
    "Required methods:"
   ]
  },
  {
   "cell_type": "code",
   "execution_count": null,
   "metadata": {
    "collapsed": true
   },
   "outputs": [],
   "source": [
    "import cv2\n",
    "import numpy as np\n",
    "\n",
    "def get_cell_type(cell_id, type_map):\n",
    "    return \"neuron\"\n",
    "\n",
    "def get_region_type(cell_id, region_id, is_synapse, type_map):\n",
    "    region_type = \"unknown\"\n",
    "    if region_id != 0: region_type = \"mitochondria\"\n",
    "    if is_synapse: region_type = \"synapse\"\n",
    "    return region_type\n",
    "\n",
    "def get_slice(k):\n",
    "    real_slice = np.rot90(cv2.imread(segments_path + files_segments[k],-1).astype(np.uint32))\n",
    "    mito_slice = np.rot90(cv2.imread(mitos_path + files_mitos[k],-1).astype(np.uint16))\n",
    "    synapse_slice = np.rot90(cv2.imread(synapses_path + files_synapses[k],-1).astype(np.uint16))\n",
    "    return (real_slice, synapse_slice, mito_slice)"
   ]
  },
  {
   "cell_type": "markdown",
   "metadata": {},
   "source": [
    "### Eyewire\n",
    "\n",
    "Required parameters:"
   ]
  },
  {
   "cell_type": "code",
   "execution_count": null,
   "metadata": {
    "collapsed": true
   },
   "outputs": [],
   "source": [
    "tar_source_path = '/Users/Jeremy/Documents/Neuro/Eyewire/nature2014.tar.gz'\n",
    "file_name = \"volume.uint32_t.raw\"\n",
    "source_url = '''http://seunglab.org/data/'''\n",
    "reference_url = '''http://www.nature.com/nature/journal/v509/n7500/abs/nature13240.html'''\n",
    "name = \"Eyewire\"\n",
    "comments = \"A reconstruction of a part of the mouse's retina. The data is very sparse and the resolution quite low. No region annotation.\"\n",
    "\n",
    "dim = (2432, 10496, 6528)\n",
    "vdim = (33, 33, 46)"
   ]
  },
  {
   "cell_type": "markdown",
   "metadata": {},
   "source": [
    "## Run Import\n",
    "\n",
    "Run the import by running the shell below, starting with creating a new ground truth dataset:"
   ]
  },
  {
   "cell_type": "code",
   "execution_count": 4,
   "metadata": {
    "collapsed": false
   },
   "outputs": [],
   "source": [
    "import database.methods.datasets as d\n",
    "\n",
    "ds.begin()\n",
    "dataset_id = d.create_ground_truth_dataset(ds, dataset_name, dim, vdim, source_url, reference_url, comments)\n",
    "ds.commit()"
   ]
  },
  {
   "cell_type": "code",
   "execution_count": null,
   "metadata": {
    "collapsed": false
   },
   "outputs": [],
   "source": [
    "import database.methods.connectomics as c\n",
    "import database.methods.conversion as cv\n",
    "import ipywidgets as widgets\n",
    "from IPython.display import display\n",
    "\n",
    "start_slice = 0\n",
    "end_slice = 93\n",
    "\n",
    "progressbar = widgets.FloatProgress(value=start_slice,min=max(0, start_slice)\\\n",
    "                                    , max=min(end_slice, z),step=1, description='Loading:',)\n",
    "display(progressbar)\n",
    "ds.begin()\n",
    "for k in range(start_slice, end_slice):\n",
    "    progressbar.value = k + 1\n",
    "    (real_slice, synapse_slice, mito_slice) = get_slice(k)\n",
    "    (data_points, cell_points) = cv.ingest_slice(ds, dataset_id, k,\\\n",
    "        real_slice, synapse_slice, mito_slice, get_cell_type, get_region_type, typeMap)\n",
    "    c.add_data_points(ds, data_points)\n",
    "    c.add_cells(ds, cell_points)\n",
    "ds.commit()"
   ]
  },
  {
   "cell_type": "code",
   "execution_count": null,
   "metadata": {
    "collapsed": true
   },
   "outputs": [],
   "source": []
  }
 ],
 "metadata": {
  "kernelspec": {
   "display_name": "Python 2",
   "language": "python",
   "name": "python2"
  },
  "language_info": {
   "codemirror_mode": {
    "name": "ipython",
    "version": 2
   },
   "file_extension": ".py",
   "mimetype": "text/x-python",
   "name": "python",
   "nbconvert_exporter": "python",
   "pygments_lexer": "ipython2",
   "version": "2.7.10"
  }
 },
 "nbformat": 4,
 "nbformat_minor": 0
}
